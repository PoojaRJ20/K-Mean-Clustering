{
  "nbformat": 4,
  "nbformat_minor": 0,
  "metadata": {
    "colab": {
      "provenance": []
    },
    "kernelspec": {
      "name": "python3",
      "display_name": "Python 3"
    },
    "language_info": {
      "name": "python"
    }
  },
  "cells": [
    {
      "cell_type": "code",
      "source": [
        "\n",
        "\n",
        "# importing the libraries\n",
        "\n",
        "import sys\n",
        "import pandas as pd\n",
        "from sklearn.cluster import KMeans\n",
        "from sklearn import metrics\n",
        "\n",
        "def find_best_kmeans(data, min_k, max_k):\n",
        "\n",
        "\n",
        "    # Drop non-numeric columns and rows with missing values\n",
        "    data_numeric = data.select_dtypes(include=['float64', 'int64']).dropna()\n",
        "\n",
        "    best_k = min_k\n",
        "    best_score = -1\n",
        "    # Loop over range of K values\n",
        "    for k in range(min_k, max_k + 1):\n",
        "        # Initialize the K-Means model\n",
        "        kmeans = KMeans(n_clusters=k, random_state=42, n_init='auto')\n",
        "\n",
        "        # Fit the model and predict cluster labels\n",
        "        labels = kmeans.fit_predict(data_numeric)\n",
        "\n",
        "        # Use the data and calculate Silhouette Coefficient\n",
        "        score = metrics.silhouette_score(data_numeric, labels)\n",
        "\n",
        "        # Track the best score and corresponding k\n",
        "        if score > best_score:\n",
        "            best_score = score\n",
        "            best_k = k\n",
        "\n",
        "    # Return the best K with respect to Silhouette Coefficient\n",
        "    return best_k\n",
        "\n",
        "\n",
        "\n",
        "\n",
        "if __name__ == '__main__':\n",
        "\n",
        "\n",
        "\n",
        "    if len(sys.argv) == 2:\n",
        "        print(\"Usage: python assignment.py <number> <number>\")\n",
        "        sys.exit(1)\n",
        "\n",
        "    input_data_one = sys.argv[1].strip()\n",
        "    input_data_two = sys.argv[2].strip()\n",
        "\n",
        "\n",
        "    if input_data_one.isdigit() and input_data_two.isdigit():\n",
        "\n",
        "        min_k = int(input_data_one)\n",
        "        max_k = int(input_data_two)\n",
        "\n",
        "        # Debug: print the values of min_k and max_k\n",
        "        print(f\"min_k: {min_k}, max_k: {max_k}\")\n",
        "\n",
        "        if min_k >= 2 and max_k > min_k:\n",
        "            data = pd.read_csv(\"./housing.csv\")\n",
        "            print(find_best_kmeans(data, min_k, max_k))\n",
        "        else:\n",
        "            print(\"Invalid input\")\n",
        "    else:\n",
        "        print(\"Invalid input\")\n",
        "\n",
        "\n"
      ],
      "metadata": {
        "id": "Xi2OKLPpNM3v"
      },
      "execution_count": null,
      "outputs": []
    }
  ]
}